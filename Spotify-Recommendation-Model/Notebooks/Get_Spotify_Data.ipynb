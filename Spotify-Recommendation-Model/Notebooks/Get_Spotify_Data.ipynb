{
 "cells": [
  {
   "cell_type": "markdown",
   "metadata": {},
   "source": [
    "# Retrieving Spotify Data Using Spotify API\n",
    "\n",
    "The goal of this notebook is to use the <a href='https://developer.spotify.com/documentation/web-api/'>spotify API</a> to retrieve my personal liked tracks. After retrieving the track ids, the spotify track features endpoint was called to retrieve the track features which classify tracks based on danceability, energy, key, loudness, mode, speechiness, acousticness, instrumentalness, liveness, valence, and tempo."
   ]
  },
  {
   "cell_type": "code",
   "execution_count": null,
   "metadata": {},
   "outputs": [],
   "source": [
    "import os \n",
    "import requests\n",
    "import joblib\n",
    "import datetime as datetime\n",
    "import time"
   ]
  },
  {
   "cell_type": "markdown",
   "metadata": {},
   "source": [
    "Create a SpotifyAPI class which defines contains methods which will provide authentication parameters to the spotify API to retrieve an authentication token"
   ]
  },
  {
   "cell_type": "code",
   "execution_count": null,
   "metadata": {},
   "outputs": [],
   "source": [
    "class SpotifyAPI:\n",
    "    \n",
    "    authorize_url = 'https://accounts.spotify.com/authorize'\n",
    "    tracks_request_url = 'https://api.spotify.com/v1/me/tracks'\n",
    "    \n",
    "    def __init__(self, client_id, client_secret):\n",
    "        self.client_id = client_id\n",
    "        self.client_secret = client_secret\n",
    "    \n",
    "    def get_authorization_code(self):\n",
    "        \n",
    "        client_id = self.client_id\n",
    "        client_secret = self.client_secret\n",
    "        authorize_url = self.authorize_url\n",
    "        \n",
    "        authorize_params = {\n",
    "            'client_id':client_id,\n",
    "            'response_type':'token',\n",
    "            'redirect_uri':'https://developer.spotify.com/documentation/web-api/reference-beta/#endpoint-get-users-saved-tracks',\n",
    "            'scope':'user-library-read user-read-recently-played'\n",
    "        }\n",
    "        \n",
    "        r = requests.get(authorize_url, params=authorize_params)\n",
    "        \n",
    "        print(r.url)\n",
    "    \n",
    "    def get_track_data(self):\n",
    "        \n",
    "        access_token = self.get_access_token()\n",
    "        \n",
    "        tracks_request_url = self.tracks_request_url\n",
    "        \n",
    "        tracks_request_header = {\n",
    "            'Authorization': f'Bearer {access_token}',\n",
    "            'scope':'user-library-read user-read-recently-played'\n",
    "        }\n",
    "        \n",
    "        r = requests.get(tracks_request_url, headers=tracks_request_header)\n",
    "        \n",
    "        return r.status_code"
   ]
  },
  {
   "cell_type": "markdown",
   "metadata": {},
   "source": [
    "To get credentials you must create a spotify web app on your <a href='https://developer.spotify.com/dashboard/login'>dashboard</a>. Once you create a web app the details for the client id and secret key are under the web app details."
   ]
  },
  {
   "cell_type": "code",
   "execution_count": null,
   "metadata": {},
   "outputs": [],
   "source": [
    "spotify_client_id = os.environ['SPOTIFY_API_CLIENT_ID']\n",
    "spotify_secret_key = os.environ['SPOTIFY_API_SECRET_KEY']\n",
    "\n",
    "spotify_client = SpotifyAPI(spotify_client_id, spotify_secret_key)"
   ]
  },
  {
   "cell_type": "markdown",
   "metadata": {},
   "source": [
    "The authentication token is taken after clicking the url produced below. After clicking the produced link, the token is contained in the url of the redirect page."
   ]
  },
  {
   "cell_type": "code",
   "execution_count": 5,
   "metadata": {},
   "outputs": [
    {
     "name": "stdout",
     "output_type": "stream",
     "text": [
      "https://accounts.spotify.com/login?continue=https%3A%2F%2Faccounts.spotify.com%2Fauthorize%3Fscope%3Duser-library-read%2Buser-read-recently-played%26response_type%3Dtoken%26redirect_uri%3Dhttps%253A%252F%252Fdeveloper.spotify.com%252Fdocumentation%252Fweb-api%252Freference-beta%252F%2523endpoint-get-users-saved-tracks%26client_id%3D853fe527a1704e18845533fb15278ead\n"
     ]
    }
   ],
   "source": [
    "auth_code_url = spotify_client.get_authorization_code()"
   ]
  },
  {
   "cell_type": "markdown",
   "metadata": {},
   "source": [
    "Again the token is taken from the above url. The for loop below gets the spotify track ids of all the liked songs in my spotify account, and the list was dumped as a joblib object to accessed in other notebooks."
   ]
  },
  {
   "cell_type": "code",
   "execution_count": 6,
   "metadata": {},
   "outputs": [
    {
     "data": {
      "text/plain": [
       "['Joblib_Objects/liked_track_ids']"
      ]
     },
     "execution_count": 6,
     "metadata": {},
     "output_type": "execute_result"
    }
   ],
   "source": [
    "#Token is taken from auth code url\n",
    "\n",
    "track_ids = []\n",
    "\n",
    "for i in range(20):\n",
    "    \n",
    "    offset = i*50\n",
    "    \n",
    "    tracks_url = f'https://api.spotify.com/v1/me/tracks?offset={offset}&limit=50'\n",
    "\n",
    "    header = {\n",
    "        'Authorization': f'Bearer {token}'\n",
    "    }\n",
    "\n",
    "    tracks_response = requests.get(tracks_url, headers=header)\n",
    "    \n",
    "    tracks_json = tracks_response.json()\n",
    "    \n",
    "    for track in tracks_json['items']:\n",
    "        track_id = track['track']['id']\n",
    "        track_ids.append(track_id)\n",
    "        \n",
    "joblib.dump(track_ids,'../Joblib_Objects/liked_track_ids')"
   ]
  },
  {
   "cell_type": "markdown",
   "metadata": {},
   "source": [
    "Once all the liked track ids are saved in a list, the track features are able to be retrieved. The audio/track features spotify endpoint does not include the genre of the song. To get the genre, I collected the artist id, and with this id I was able to collect the artist features and their respective genre. This is what will define the genres of the tracks. All the data was saved into a pandas dataframe and exported as a CSV."
   ]
  },
  {
   "cell_type": "code",
   "execution_count": 39,
   "metadata": {},
   "outputs": [
    {
     "name": "stdout",
     "output_type": "stream",
     "text": [
      "0P6AWOA4LG1XOctzaVu5tt\n",
      "2RxbUs1UfebXymMwrAKZVB\n"
     ]
    }
   ],
   "source": [
    "import pandas as pd\n",
    "\n",
    "track_features_df = pd.DataFrame(columns=['track_id','genre','artist','danceability','energy','key','loudness','mode','speechiness','acousticness',\n",
    "                                         'instrumentalness','liveness','valence','tempo'])\n",
    "\n",
    "for track in track_ids:\n",
    "    \n",
    "    try:\n",
    "        audio_features_response = requests.get(f'https://api.spotify.com/v1/audio-features/{track}', headers=header)\n",
    "        audio_features_response_json = audio_features_response.json()\n",
    "\n",
    "        track_response = requests.get(f'https://api.spotify.com/v1/tracks/{track}',headers=header)\n",
    "        track_response_json = track_response.json()\n",
    "\n",
    "        album_id = track_response_json['album']['id']\n",
    "        artist_id = track_response_json['artists'][0]['id']\n",
    "\n",
    "        artist_response = requests.get(f'https://api.spotify.com/v1/artists/{artist_id}',headers=header)\n",
    "        artist_response_json = artist_response.json()\n",
    "        genres = artist_response_json['genres']\n",
    "        artist = artist_response_json['name']\n",
    "\n",
    "        track_features = {\n",
    "            'track_id':track,\n",
    "            'genre':genres,\n",
    "            'artist':artist,\n",
    "            'danceability':audio_features_response_json['danceability'],\n",
    "            'energy':audio_features_response_json['energy'],\n",
    "            'key':audio_features_response_json['key'],\n",
    "            'loudness':audio_features_response_json['loudness'],\n",
    "            'mode':audio_features_response_json['mode'],\n",
    "            'speechiness':audio_features_response_json['speechiness'],\n",
    "            'acousticness':audio_features_response_json['acousticness'],\n",
    "            'instrumentalness':audio_features_response_json['instrumentalness'],\n",
    "            'liveness':audio_features_response_json['liveness'],\n",
    "            'valence':audio_features_response_json['valence'],\n",
    "            'tempo':audio_features_response_json['tempo']\n",
    "        }\n",
    "\n",
    "        track_features_df = track_features_df.append(track_features,ignore_index=True)\n",
    "    \n",
    "    except:\n",
    "        print(track)\n",
    "        \n",
    "    \n",
    "\n",
    "track_features_df.to_csv('../CSV_Data/liked_songs.csv')"
   ]
  },
  {
   "cell_type": "code",
   "execution_count": null,
   "metadata": {},
   "outputs": [],
   "source": []
  },
  {
   "cell_type": "code",
   "execution_count": null,
   "metadata": {},
   "outputs": [],
   "source": []
  },
  {
   "cell_type": "code",
   "execution_count": null,
   "metadata": {},
   "outputs": [],
   "source": []
  }
 ],
 "metadata": {
  "kernelspec": {
   "display_name": "Python 3",
   "language": "python",
   "name": "python3"
  },
  "language_info": {
   "codemirror_mode": {
    "name": "ipython",
    "version": 3
   },
   "file_extension": ".py",
   "mimetype": "text/x-python",
   "name": "python",
   "nbconvert_exporter": "python",
   "pygments_lexer": "ipython3",
   "version": "3.8.3"
  }
 },
 "nbformat": 4,
 "nbformat_minor": 4
}
