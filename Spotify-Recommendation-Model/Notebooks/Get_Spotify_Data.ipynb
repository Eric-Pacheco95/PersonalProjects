{
 "cells": [
  {
   "cell_type": "code",
   "execution_count": null,
   "metadata": {},
   "outputs": [],
   "source": [
    "import os \n",
    "import requests\n",
    "import joblib\n",
    "import datetime as datetime\n",
    "import time"
   ]
  },
  {
   "cell_type": "code",
   "execution_count": null,
   "metadata": {},
   "outputs": [],
   "source": [
    "#Create spotify class which contains all functions and attributes related to spotify API\n",
    "class SpotifyAPI:\n",
    "    \n",
    "    authorize_url = 'https://accounts.spotify.com/authorize'\n",
    "    tracks_request_url = 'https://api.spotify.com/v1/me/tracks'\n",
    "    \n",
    "    def __init__(self, client_id, client_secret):\n",
    "        self.client_id = client_id\n",
    "        self.client_secret = client_secret\n",
    "    \n",
    "    def get_authorization_code(self):\n",
    "        \n",
    "        client_id = self.client_id\n",
    "        client_secret = self.client_secret\n",
    "        authorize_url = self.authorize_url\n",
    "        \n",
    "        authorize_params = {\n",
    "            'client_id':client_id,\n",
    "            'response_type':'token',\n",
    "            'redirect_uri':'https://developer.spotify.com/documentation/web-api/reference-beta/#endpoint-get-users-saved-tracks',\n",
    "            'scope':'user-library-read user-read-recently-played'\n",
    "        }\n",
    "        \n",
    "        r = requests.get(authorize_url, params=authorize_params)\n",
    "        \n",
    "        print(r.url)\n",
    "    \n",
    "    def get_track_data(self):\n",
    "        \n",
    "        access_token = self.get_access_token()\n",
    "        \n",
    "        tracks_request_url = self.tracks_request_url\n",
    "        \n",
    "        tracks_request_header = {\n",
    "            'Authorization': f'Bearer {access_token}',\n",
    "            'scope':'user-library-read user-read-recently-played'\n",
    "        }\n",
    "        \n",
    "        r = requests.get(tracks_request_url, headers=tracks_request_header)\n",
    "        \n",
    "        return r.status_code"
   ]
  },
  {
   "cell_type": "code",
   "execution_count": null,
   "metadata": {},
   "outputs": [],
   "source": [
    "#Create spotify client object with spotify app client id and secret key\n",
    "spotify_client_id = os.environ['SPOTIFY_API_CLIENT_ID']\n",
    "spotify_secret_key = os.environ['SPOTIFY_API_SECRET_KEY']\n",
    "\n",
    "spotify_client = SpotifyAPI(spotify_client_id, spotify_secret_key)"
   ]
  },
  {
   "cell_type": "code",
   "execution_count": 5,
   "metadata": {},
   "outputs": [
    {
     "name": "stdout",
     "output_type": "stream",
     "text": [
      "https://accounts.spotify.com/login?continue=https%3A%2F%2Faccounts.spotify.com%2Fauthorize%3Fscope%3Duser-library-read%2Buser-read-recently-played%26response_type%3Dtoken%26redirect_uri%3Dhttps%253A%252F%252Fdeveloper.spotify.com%252Fdocumentation%252Fweb-api%252Freference-beta%252F%2523endpoint-get-users-saved-tracks%26client_id%3D853fe527a1704e18845533fb15278ead\n"
     ]
    }
   ],
   "source": [
    "#Get auth code url \n",
    "auth_code_url = spotify_client.get_authorization_code()"
   ]
  },
  {
   "cell_type": "code",
   "execution_count": 6,
   "metadata": {},
   "outputs": [
    {
     "data": {
      "text/plain": [
       "['Joblib_Objects/liked_track_ids']"
      ]
     },
     "execution_count": 6,
     "metadata": {},
     "output_type": "execute_result"
    }
   ],
   "source": [
    "#Token is taken from auth code url\n",
    "token = 'BQBE_WSC169reQNfPI9ZwgjlczJvUr0ujkzoiQudRh1E2B5HHPreDJY11XYZyHscheXQ2Dud_1wF3bWS1iul1_lRt9mwu6CGWKRIZ1fhND8uQ9qaAmnH6vDvV07uy_vasg-s0xwJT4PTYfllVLHe8qp_'\n",
    "\n",
    "#Get all track ids in spotify account\n",
    "track_ids = []\n",
    "\n",
    "for i in range(20):\n",
    "    \n",
    "    offset = i*50\n",
    "    \n",
    "    tracks_url = f'https://api.spotify.com/v1/me/tracks?offset={offset}&limit=50'\n",
    "\n",
    "    header = {\n",
    "        'Authorization': f'Bearer {token}'\n",
    "    }\n",
    "\n",
    "    tracks_response = requests.get(tracks_url, headers=header)\n",
    "    \n",
    "    tracks_json = tracks_response.json()\n",
    "    \n",
    "    for track in tracks_json['items']:\n",
    "        track_id = track['track']['id']\n",
    "        track_ids.append(track_id)\n",
    "        \n",
    "joblib.dump(track_ids,'../Joblib_Objects/liked_track_ids')"
   ]
  },
  {
   "cell_type": "code",
   "execution_count": 39,
   "metadata": {},
   "outputs": [
    {
     "name": "stdout",
     "output_type": "stream",
     "text": [
      "0P6AWOA4LG1XOctzaVu5tt\n",
      "2RxbUs1UfebXymMwrAKZVB\n"
     ]
    }
   ],
   "source": [
    "import pandas as pd\n",
    "\n",
    "#Get all track features from spotify api\n",
    "track_features_df = pd.DataFrame(columns=['track_id','genre','artist','danceability','energy','key','loudness','mode','speechiness','acousticness',\n",
    "                                         'instrumentalness','liveness','valence','tempo'])\n",
    "\n",
    "for track in track_ids:\n",
    "    \n",
    "    try:\n",
    "        audio_features_response = requests.get(f'https://api.spotify.com/v1/audio-features/{track}', headers=header)\n",
    "        audio_features_response_json = audio_features_response.json()\n",
    "\n",
    "        track_response = requests.get(f'https://api.spotify.com/v1/tracks/{track}',headers=header)\n",
    "        track_response_json = track_response.json()\n",
    "\n",
    "        album_id = track_response_json['album']['id']\n",
    "        artist_id = track_response_json['artists'][0]['id']\n",
    "\n",
    "        artist_response = requests.get(f'https://api.spotify.com/v1/artists/{artist_id}',headers=header)\n",
    "        artist_response_json = artist_response.json()\n",
    "        genres = artist_response_json['genres']\n",
    "        artist = artist_response_json['name']\n",
    "\n",
    "        track_features = {\n",
    "            'track_id':track,\n",
    "            'genre':genres,\n",
    "            'artist':artist,\n",
    "            'danceability':audio_features_response_json['danceability'],\n",
    "            'energy':audio_features_response_json['energy'],\n",
    "            'key':audio_features_response_json['key'],\n",
    "            'loudness':audio_features_response_json['loudness'],\n",
    "            'mode':audio_features_response_json['mode'],\n",
    "            'speechiness':audio_features_response_json['speechiness'],\n",
    "            'acousticness':audio_features_response_json['acousticness'],\n",
    "            'instrumentalness':audio_features_response_json['instrumentalness'],\n",
    "            'liveness':audio_features_response_json['liveness'],\n",
    "            'valence':audio_features_response_json['valence'],\n",
    "            'tempo':audio_features_response_json['tempo']\n",
    "        }\n",
    "\n",
    "        track_features_df = track_features_df.append(track_features,ignore_index=True)\n",
    "    \n",
    "    except:\n",
    "        print(track)\n",
    "        \n",
    "    \n",
    "\n",
    "track_features_df.to_csv('../CSV_Data/liked_songs.csv')"
   ]
  },
  {
   "cell_type": "code",
   "execution_count": null,
   "metadata": {
    "collapsed": true
   },
   "outputs": [],
   "source": [
    "#Get track ids from good songs playlist - Favourite songs which we will be creating the model based off\n",
    "good_songs_track_ids = []\n",
    "\n",
    "playlist_uri = '5xobVZkNfsoq1M1s6qlhQQ'\n",
    "\n",
    "for i in range(4):\n",
    "\n",
    "    playlist_url = f'https://api.spotify.com/v1/playlists/{playlist_uri}/tracks?offset={i*100}'\n",
    "\n",
    "    header = {\n",
    "        'Authorization': f'Bearer {token}'\n",
    "    }\n",
    "\n",
    "    playlist_response = requests.get(playlist_url, headers=header)\n",
    "\n",
    "    playlist_json = playlist_response.json()\n",
    "    \n",
    "    for item in playlist_json['items']:\n",
    "        good_songs_track_ids.append(item['track']['id'])\n",
    "\n",
    "joblib.dump(good_songs_track_ids,'../Joblib_Objects/good_songs_track_ids')"
   ]
  },
  {
   "cell_type": "code",
   "execution_count": null,
   "metadata": {},
   "outputs": [],
   "source": []
  },
  {
   "cell_type": "code",
   "execution_count": null,
   "metadata": {},
   "outputs": [],
   "source": []
  },
  {
   "cell_type": "code",
   "execution_count": null,
   "metadata": {},
   "outputs": [],
   "source": []
  }
 ],
 "metadata": {
  "kernelspec": {
   "display_name": "Python 3",
   "language": "python",
   "name": "python3"
  },
  "language_info": {
   "codemirror_mode": {
    "name": "ipython",
    "version": 3
   },
   "file_extension": ".py",
   "mimetype": "text/x-python",
   "name": "python",
   "nbconvert_exporter": "python",
   "pygments_lexer": "ipython3",
   "version": "3.8.3"
  }
 },
 "nbformat": 4,
 "nbformat_minor": 4
}
