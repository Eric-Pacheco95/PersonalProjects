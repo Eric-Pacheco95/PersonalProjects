{
 "cells": [
  {
   "cell_type": "code",
   "execution_count": 14,
   "metadata": {},
   "outputs": [],
   "source": [
    "import os \n",
    "import requests\n",
    "import joblib\n",
    "import base64 as b64\n",
    "import pandas as pd\n",
    "import json"
   ]
  },
  {
   "cell_type": "code",
   "execution_count": 15,
   "metadata": {},
   "outputs": [],
   "source": [
    "#Create spotify class which contains all functions and attributes related to spotify API\n",
    "class SpotifyAPI:\n",
    "    \n",
    "    authorize_url = 'https://accounts.spotify.com/api/token'\n",
    "    \n",
    "    def __init__(self, client_id, client_secret):\n",
    "        self.client_id = client_id\n",
    "        self.client_secret = client_secret\n",
    "    \n",
    "    def get_authorization_code(self):\n",
    "        \n",
    "        client_id = self.client_id\n",
    "        client_secret = self.client_secret\n",
    "        authorize_url = self.authorize_url\n",
    "        client_creds = f'{client_id}:{client_secret}'\n",
    "        \n",
    "        client_creds_b64 = b64.b64encode(client_creds.encode())\n",
    "        \n",
    "        \n",
    "        authorize_params = {\n",
    "            'grant_type': 'client_credentials'\n",
    "        }\n",
    "        \n",
    "        token_header = {\n",
    "            'Authorization': f'Basic {client_creds_b64.decode()}' \n",
    "        }\n",
    "        \n",
    "        r = requests.post(authorize_url, data=authorize_params, headers=token_header)\n",
    "        r_json = r.json()\n",
    "        \n",
    "        access_token = r_json['access_token']\n",
    "        \n",
    "        return access_token"
   ]
  },
  {
   "cell_type": "code",
   "execution_count": 16,
   "metadata": {},
   "outputs": [],
   "source": [
    "#Create spotify client object with spotify app client id and secret key\n",
    "spotify_client_id = os.environ['SPOTIFY_API_CLIENT_ID']\n",
    "spotify_secret_key = os.environ['SPOTIFY_API_SECRET_KEY']\n",
    "\n",
    "spotify_client = SpotifyAPI(spotify_client_id, spotify_secret_key)"
   ]
  },
  {
   "cell_type": "code",
   "execution_count": 17,
   "metadata": {},
   "outputs": [],
   "source": [
    "#Get access token\n",
    "access_token = spotify_client.get_authorization_code()"
   ]
  },
  {
   "cell_type": "code",
   "execution_count": 18,
   "metadata": {},
   "outputs": [],
   "source": [
    "#Get pollen playlist spotify track ids\n",
    "pollen_playlist_id = '37i9dQZF1DWWBHeXOYZf74'\n",
    "\n",
    "pollen_playlist_tracks = []\n",
    "\n",
    "playlist_header = {\n",
    "    'Authorization': f'Bearer {access_token}'\n",
    "}\n",
    "\n",
    "for i in range(5):\n",
    "    \n",
    "    playlist_response = requests.get(f'https://api.spotify.com/v1/playlists/{pollen_playlist_id}/tracks?offset={i*100}', headers=playlist_header)\n",
    "    playlist_response_json = playlist_response.json()\n",
    "    \n",
    "    for item in playlist_response_json['items']:\n",
    "        \n",
    "        track_id = item['track']['id']\n",
    "        pollen_playlist_tracks.append(track_id)"
   ]
  },
  {
   "cell_type": "code",
   "execution_count": 19,
   "metadata": {},
   "outputs": [],
   "source": [
    "#Load liked tracks ids\n",
    "liked_track_ids = joblib.load('../Joblib_Objects/liked_track_ids')\n",
    "\n",
    "#Filter playlist for songs that are already liked\n",
    "filtered_pollen_playlist_tracks = []\n",
    "\n",
    "for track in pollen_playlist_tracks:\n",
    "    if track not in liked_track_ids:\n",
    "        filtered_pollen_playlist_tracks.append(track)"
   ]
  },
  {
   "cell_type": "code",
   "execution_count": 20,
   "metadata": {},
   "outputs": [
    {
     "name": "stdout",
     "output_type": "stream",
     "text": [
      "3hARuUtzTdUuWH1KiLJlSf\n",
      "2kUQyPvQpScTvEi31bXG9h\n"
     ]
    }
   ],
   "source": [
    "#Get track information for all filtered pollen playlist tracks\n",
    "pollen_playlist_df = pd.DataFrame(columns=['genre','danceability','energy','key','loudness','mode','speechiness','acousticness',\n",
    "                                         'instrumentalness','liveness','valence','tempo'])\n",
    "\n",
    "track_header = {\n",
    "    'Authorization': f'Bearer {access_token}'\n",
    "}\n",
    "\n",
    "for track in filtered_pollen_playlist_tracks:\n",
    "    try:\n",
    "        audio_features_response = requests.get(f'https://api.spotify.com/v1/audio-features/{track}', headers=track_header)\n",
    "        audio_features_response_json = audio_features_response.json()\n",
    "\n",
    "        track_response = requests.get(f'https://api.spotify.com/v1/tracks/{track}',headers=track_header)\n",
    "        track_response_json = track_response.json()\n",
    "        \n",
    "        song_name = track_response_json['name']\n",
    "        artist_id = track_response_json['artists'][0]['id']\n",
    "        \n",
    "        artist_response = requests.get(f'https://api.spotify.com/v1/artists/{artist_id}',headers=track_header)\n",
    "        artist_response_json = artist_response.json()\n",
    "        genres = artist_response_json['genres']\n",
    "        \n",
    "        track_features = {\n",
    "            'song_name':song_name,\n",
    "            'track_id':track,\n",
    "            'genre':genres,\n",
    "            'danceability':audio_features_response_json['danceability'],\n",
    "            'energy':audio_features_response_json['energy'],\n",
    "            'key':audio_features_response_json['key'],\n",
    "            'loudness':audio_features_response_json['loudness'],\n",
    "            'mode':audio_features_response_json['mode'],\n",
    "            'speechiness':audio_features_response_json['speechiness'],\n",
    "            'acousticness':audio_features_response_json['acousticness'],\n",
    "            'instrumentalness':audio_features_response_json['instrumentalness'],\n",
    "            'liveness':audio_features_response_json['liveness'],\n",
    "            'valence':audio_features_response_json['valence'],\n",
    "            'tempo':audio_features_response_json['tempo']\n",
    "        }\n",
    "\n",
    "        pollen_playlist_df = pollen_playlist_df.append(track_features,ignore_index=True)\n",
    "        \n",
    "    except:\n",
    "        \n",
    "        print(track)"
   ]
  },
  {
   "cell_type": "code",
   "execution_count": 21,
   "metadata": {},
   "outputs": [],
   "source": [
    "#Format genres to only have 1 listed\n",
    "def replace_empty_list(track):\n",
    "    if len(track) == 0:\n",
    "        track = ['Not Available']\n",
    "    else:\n",
    "        pass\n",
    "    \n",
    "    return track\n",
    "\n",
    "pollen_playlist_df['genre'] = pollen_playlist_df['genre'].map(replace_empty_list)\n",
    "pollen_playlist_df['genre'] = pollen_playlist_df['genre'].map(lambda x: x[0])"
   ]
  },
  {
   "cell_type": "code",
   "execution_count": 22,
   "metadata": {},
   "outputs": [],
   "source": [
    "#load label encoder\n",
    "genres_label_encoder = joblib.load('../Joblib_Objects/genres_label_encoder')\n",
    "\n",
    "def label_encode(track):\n",
    "    \n",
    "    try:\n",
    "        encoded_genre = genres_label_encoder.transform([track])[0]\n",
    "        \n",
    "        return int(encoded_genre)\n",
    "    \n",
    "    except:\n",
    "        pass\n",
    "    \n",
    "pollen_playlist_df['genre'] = pollen_playlist_df['genre'].map(label_encode)"
   ]
  },
  {
   "cell_type": "code",
   "execution_count": 23,
   "metadata": {},
   "outputs": [],
   "source": [
    "#Drop rows with nans\n",
    "pollen_playlist_df = pollen_playlist_df.dropna()\n",
    "\n",
    "#Make separate dataframe without track ids listed\n",
    "prediction_dataframe = pollen_playlist_df.drop(columns=['track_id','song_name'])"
   ]
  },
  {
   "cell_type": "code",
   "execution_count": 24,
   "metadata": {},
   "outputs": [
    {
     "name": "stderr",
     "output_type": "stream",
     "text": [
      "C:\\ProgramData\\Anaconda3\\lib\\site-packages\\sklearn\\base.py:329: UserWarning: Trying to unpickle estimator StandardScaler from version 0.23.2 when using version 0.23.1. This might lead to breaking code or invalid results. Use at your own risk.\n",
      "  warnings.warn(\n"
     ]
    }
   ],
   "source": [
    "#Load scaler\n",
    "scaler = joblib.load('../Joblib_Objects/scaler')\n",
    "X = scaler.transform(prediction_dataframe)"
   ]
  },
  {
   "cell_type": "code",
   "execution_count": 39,
   "metadata": {},
   "outputs": [],
   "source": [
    "#Load model\n",
    "xgb_model = joblib.load('../spotify_song_classifier.dat')\n",
    "\n",
    "#Predict favourites and add to playlist dataframe\n",
    "predictions = xgb_model.predict(X)\n",
    "predictions_probabilities = xgb_model.predict_proba(X)\n",
    "predictions_probabilities_0_class = [x[0] for x in predictions_probabilities]\n",
    "pollen_playlist_df['favourite'] = predictions\n",
    "pollen_playlist_df['prediction_probability'] = predictions_probabilities_0_class\n",
    "\n",
    "def change_probability_1(probability):\n",
    "    if probability < 0.5:\n",
    "        new_probability = 1-probability\n",
    "    else:\n",
    "        new_probability = probability\n",
    "    \n",
    "    return new_probability\n",
    "\n",
    "pollen_playlist_df['prediction_probability'] = pollen_playlist_df['prediction_probability'].map(change_probability_1)"
   ]
  },
  {
   "cell_type": "code",
   "execution_count": 47,
   "metadata": {},
   "outputs": [],
   "source": [
    "#Filter for favourite songs\n",
    "favourites_df = pollen_playlist_df.loc[pollen_playlist_df['favourite'] == 1]\n",
    "\n",
    "#Filter for 80% prbaobility of being favourite\n",
    "higher_probability = favourites_df.loc[favourites_df['prediction_probability'] > .8]"
   ]
  },
  {
   "cell_type": "code",
   "execution_count": 44,
   "metadata": {},
   "outputs": [
    {
     "name": "stdout",
     "output_type": "stream",
     "text": [
      "https://accounts.spotify.com/login?continue=https%3A%2F%2Faccounts.spotify.com%2Fauthorize%3Fscope%3Dplaylist-modify-public%2Bplaylist-modify-private%26response_type%3Dtoken%26redirect_uri%3Dhttps%253A%252F%252Fdeveloper.spotify.com%252Fdocumentation%252Fweb-api%252Freference-beta%252F%2523endpoint-get-users-saved-tracks%26client_id%3D853fe527a1704e18845533fb15278ead\n"
     ]
    }
   ],
   "source": [
    "#Fill XGB Model Recommendations playlist with newly acquired tracks\n",
    "authorize_url = 'https://accounts.spotify.com/authorize'\n",
    "\n",
    "def get_authorization_code(client_id, client_secret):\n",
    "\n",
    "    authorize_params = {\n",
    "        'client_id':client_id,\n",
    "        'response_type':'token',\n",
    "        'redirect_uri':'https://developer.spotify.com/documentation/web-api/reference-beta/#endpoint-get-users-saved-tracks',\n",
    "        'scope':'playlist-modify-public playlist-modify-private'\n",
    "    }\n",
    "\n",
    "    r = requests.get(authorize_url, params=authorize_params)\n",
    "\n",
    "    print(r.url)\n",
    "\n",
    "get_authorization_code(os.environ['SPOTIFY_API_CLIENT_ID'], os.environ['SPOTIFY_API_SECRET_KEY'])"
   ]
  },
  {
   "cell_type": "code",
   "execution_count": 46,
   "metadata": {},
   "outputs": [
    {
     "data": {
      "text/plain": [
       "201"
      ]
     },
     "execution_count": 46,
     "metadata": {},
     "output_type": "execute_result"
    }
   ],
   "source": [
    "# temp_token taken from above url\n",
    "\n",
    "playlist_header = {\n",
    "    'Authorization': f'Bearer {temp_token}',\n",
    "    'Content-Type': 'application/json'\n",
    "}\n",
    "\n",
    "uris = []\n",
    "\n",
    "for track in higher_probability['track_id'].to_list():\n",
    "    uri = f'spotify:track:{track}'\n",
    "    uris.append(uri)\n",
    "\n",
    "request_body = json.dumps({\n",
    "          \"uris\" : uris\n",
    "        })\n",
    "\n",
    "r = requests.post(f'https://api.spotify.com/v1/playlists/{playlist_id}/tracks', headers=playlist_header, data=request_body)\n",
    "r.status_code"
   ]
  },
  {
   "cell_type": "code",
   "execution_count": null,
   "metadata": {},
   "outputs": [],
   "source": []
  }
 ],
 "metadata": {
  "kernelspec": {
   "display_name": "Python 3",
   "language": "python",
   "name": "python3"
  },
  "language_info": {
   "codemirror_mode": {
    "name": "ipython",
    "version": 3
   },
   "file_extension": ".py",
   "mimetype": "text/x-python",
   "name": "python",
   "nbconvert_exporter": "python",
   "pygments_lexer": "ipython3",
   "version": "3.8.3"
  }
 },
 "nbformat": 4,
 "nbformat_minor": 4
}
