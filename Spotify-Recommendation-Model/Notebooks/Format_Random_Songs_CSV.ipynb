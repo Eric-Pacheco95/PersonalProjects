{
 "cells": [
  {
   "cell_type": "code",
   "execution_count": 2,
   "metadata": {},
   "outputs": [],
   "source": [
    "import os \n",
    "import requests\n",
    "import joblib\n",
    "import base64 as b64\n",
    "import pandas as pd"
   ]
  },
  {
   "cell_type": "code",
   "execution_count": 2,
   "metadata": {},
   "outputs": [],
   "source": [
    "#Create spotify class which contains all functions and attributes related to spotify API\n",
    "class SpotifyAPI:\n",
    "    \n",
    "    authorize_url = 'https://accounts.spotify.com/api/token'\n",
    "    \n",
    "    def __init__(self, client_id, client_secret):\n",
    "        self.client_id = client_id\n",
    "        self.client_secret = client_secret\n",
    "    \n",
    "    def get_authorization_code(self):\n",
    "        \n",
    "        client_id = self.client_id\n",
    "        client_secret = self.client_secret\n",
    "        authorize_url = self.authorize_url\n",
    "        client_creds = f'{client_id}:{client_secret}'\n",
    "        \n",
    "        client_creds_b64 = b64.b64encode(client_creds.encode())\n",
    "        \n",
    "        \n",
    "        authorize_params = {\n",
    "            'grant_type': 'client_credentials'\n",
    "        }\n",
    "        \n",
    "        token_header = {\n",
    "            'Authorization': f'Basic {client_creds_b64.decode()}' \n",
    "        }\n",
    "        \n",
    "        r = requests.post(authorize_url, data=authorize_params, headers=token_header)\n",
    "        r_json = r.json()\n",
    "        \n",
    "        access_token = r_json['access_token']\n",
    "        \n",
    "        return access_token"
   ]
  },
  {
   "cell_type": "code",
   "execution_count": 3,
   "metadata": {},
   "outputs": [],
   "source": [
    "#Load random songs csv\n",
    "random_songs_df = pd.read_csv('../CSV_Data/random_songs.csv')"
   ]
  },
  {
   "cell_type": "code",
   "execution_count": null,
   "metadata": {},
   "outputs": [],
   "source": [
    "#Set up spotify credentials\n",
    "spotify_client_id = os.environ['SPOTIFY_API_CLIENT_ID']\n",
    "spotify_secret_key = os.environ['SPOTIFY_API_SECRET_KEY']\n",
    "\n",
    "spotify_client = SpotifyAPI(spotify_client_id, spotify_secret_key)\n",
    "\n",
    "#Get access token\n",
    "access_token = spotify_client.get_authorization_code()\n",
    "\n",
    "track_header = {\n",
    "    'Authorization': f'Bearer {access_token}'\n",
    "}\n",
    "\n",
    "#Get genre using spotify api\n",
    "def get_genre(track):\n",
    "    try:\n",
    "        track_response = requests.get(f'https://api.spotify.com/v1/tracks/{track}',headers=track_header)\n",
    "        track_response_json = track_response.json()\n",
    "\n",
    "        artist_id = track_response_json['artists'][0]['id']\n",
    "\n",
    "        artist_response = requests.get(f'https://api.spotify.com/v1/artists/{artist_id}',headers=track_header)\n",
    "        artist_response_json = artist_response.json()\n",
    "        genre = artist_response_json['genres']\n",
    "\n",
    "        return genre\n",
    "    except:\n",
    "        print(track)\n",
    "\n",
    "random_songs_df['genre'] = random_songs_df['id'].map(get_genre)"
   ]
  },
  {
   "cell_type": "code",
   "execution_count": 19,
   "metadata": {},
   "outputs": [],
   "source": [
    "#Get format for model creation from liked_songs csv\n",
    "liked_songs_df = pd.read_csv('../CSV_Data/liked_songs.csv',index_col=0)\n",
    "liked_songs_df_noartists = liked_songs_df.drop(columns='artist')\n",
    "model_columns = liked_songs_df_noartists.columns"
   ]
  },
  {
   "cell_type": "code",
   "execution_count": 26,
   "metadata": {},
   "outputs": [
    {
     "name": "stderr",
     "output_type": "stream",
     "text": [
      "<ipython-input-26-6e481d44d93e>:5: SettingWithCopyWarning: \n",
      "A value is trying to be set on a copy of a slice from a DataFrame.\n",
      "Try using .loc[row_indexer,col_indexer] = value instead\n",
      "\n",
      "See the caveats in the documentation: https://pandas.pydata.org/pandas-docs/stable/user_guide/indexing.html#returning-a-view-versus-a-copy\n",
      "  random_songs_df['genre'] = random_songs_df['genre'].map(lambda x: x.split('[')[1].split(']')[0].split(', ')[0].strip(\"'\"))\n",
      "<ipython-input-26-6e481d44d93e>:6: SettingWithCopyWarning: \n",
      "A value is trying to be set on a copy of a slice from a DataFrame.\n",
      "Try using .loc[row_indexer,col_indexer] = value instead\n",
      "\n",
      "See the caveats in the documentation: https://pandas.pydata.org/pandas-docs/stable/user_guide/indexing.html#returning-a-view-versus-a-copy\n",
      "  random_songs_df['genre'] = random_songs_df['genre'].map(lambda x: 'Not Available' if x == '' else x)\n"
     ]
    }
   ],
   "source": [
    "random_songs_df = random_songs_df.rename(columns={'id':'track_id'})\n",
    "random_songs_formatted = random_songs_df[model_columns]\n",
    "\n",
    "#Format genres to only have 1 listed\n",
    "random_songs_formatted['genre'] = random_songs_formatted['genre'].map(lambda x: x.split('[')[1].split(']')[0].split(', ')[0].strip(\"'\"))\n",
    "random_songs_formatted['genre'] = random_songs_formatted['genre'].map(lambda x: 'Not Available' if x == '' else x)"
   ]
  },
  {
   "cell_type": "code",
   "execution_count": 28,
   "metadata": {},
   "outputs": [],
   "source": [
    "random_songs_formatted.to_csv('../CSV_Data/random_songs_formatted.csv')"
   ]
  },
  {
   "cell_type": "code",
   "execution_count": null,
   "metadata": {},
   "outputs": [],
   "source": []
  }
 ],
 "metadata": {
  "kernelspec": {
   "display_name": "Python 3",
   "language": "python",
   "name": "python3"
  },
  "language_info": {
   "codemirror_mode": {
    "name": "ipython",
    "version": 3
   },
   "file_extension": ".py",
   "mimetype": "text/x-python",
   "name": "python",
   "nbconvert_exporter": "python",
   "pygments_lexer": "ipython3",
   "version": "3.8.3"
  }
 },
 "nbformat": 4,
 "nbformat_minor": 4
}
