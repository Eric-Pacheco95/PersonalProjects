{
 "cells": [
  {
   "cell_type": "code",
   "execution_count": 20,
   "metadata": {},
   "outputs": [],
   "source": [
    "import os \n",
    "import requests"
   ]
  },
  {
   "cell_type": "code",
   "execution_count": 148,
   "metadata": {},
   "outputs": [],
   "source": [
    "#Create spotify class which contains all functions and attributes related to spotify API\n",
    "class SpotifyAPI:\n",
    "    \n",
    "    authorize_url = 'https://accounts.spotify.com/authorize'\n",
    "    tracks_request_url = 'https://api.spotify.com/v1/me/tracks'\n",
    "    \n",
    "    def __init__(self, client_id, client_secret):\n",
    "        self.client_id = client_id\n",
    "        self.client_secret = client_secret\n",
    "    \n",
    "    def get_authorization_code(self):\n",
    "        \n",
    "        client_id = self.client_id\n",
    "        client_secret = self.client_secret\n",
    "        authorize_url = self.authorize_url\n",
    "        \n",
    "        authorize_params = {\n",
    "            'client_id':client_id,\n",
    "            'response_type':'token',\n",
    "            'redirect_uri':'https://developer.spotify.com/documentation/web-api/reference-beta/#endpoint-get-users-saved-tracks',\n",
    "            'scope':'user-library-read'\n",
    "        }\n",
    "        \n",
    "        r = requests.get(authorize_url, params=authorize_params)\n",
    "        \n",
    "        print(r.url)\n",
    "    \n",
    "    def get_track_data(self):\n",
    "        \n",
    "        access_token = self.get_access_token()\n",
    "        \n",
    "        tracks_request_url = self.tracks_request_url\n",
    "        \n",
    "        tracks_request_header = {\n",
    "            'Authorization': f'Bearer {access_token}',\n",
    "            'scope':'user-library-read'\n",
    "        }\n",
    "        \n",
    "        r = requests.get(tracks_request_url, headers=tracks_request_header)\n",
    "        \n",
    "        return r.status_code"
   ]
  },
  {
   "cell_type": "code",
   "execution_count": 149,
   "metadata": {},
   "outputs": [],
   "source": [
    "#Create spotify client object with spotify app client id and secret key\n",
    "os.environ['SPOTIFY_API_CLIENT_ID'] = '853fe527a1704e18845533fb15278ead'\n",
    "os.environ['SPOTIFY_API_SECRET_KEY'] = 'fc34081faaa34d27ab794e1aef9d1026'\n",
    "\n",
    "spotify_client = SpotifyAPI(os.environ['SPOTIFY_API_CLIENT_ID'], os.environ['SPOTIFY_API_SECRET_KEY'])"
   ]
  },
  {
   "cell_type": "code",
   "execution_count": 150,
   "metadata": {},
   "outputs": [
    {
     "name": "stdout",
     "output_type": "stream",
     "text": [
      "https://accounts.spotify.com/login?continue=https%3A%2F%2Faccounts.spotify.com%2Fauthorize%3Fscope%3Duser-library-read%26response_type%3Dtoken%26redirect_uri%3Dhttps%253A%252F%252Fdeveloper.spotify.com%252Fdocumentation%252Fweb-api%252Freference-beta%252F%2523endpoint-get-users-saved-tracks%26client_id%3D853fe527a1704e18845533fb15278ead\n"
     ]
    }
   ],
   "source": [
    "#Get auth code url \n",
    "auth_code_url = spotify_client.get_authorization_code()"
   ]
  },
  {
   "cell_type": "code",
   "execution_count": 151,
   "metadata": {},
   "outputs": [],
   "source": [
    "#Token is taken from auth code url\n",
    "token = 'BQAcaH4b5Tx6gr_NXukTHiCEj7VxVq3XhNzh1uEzWziO74y-nehIxkRm4y4CVEfHYPb6iMyyZ53DEQWVi5s33s5MVz7mhIeSnHSRvV3l60jWEw67OXDBXwE6p-JpAZyTVIiMHidRTQAjo0Z7xIaTNA'\n",
    "\n",
    "#Get all track ids in spotify account\n",
    "track_ids = []\n",
    "\n",
    "for i in range(20):\n",
    "    \n",
    "    offset = i*50\n",
    "    \n",
    "    tracks_url = f'https://api.spotify.com/v1/me/tracks?offset={offset}&limit=50'\n",
    "\n",
    "    header = {\n",
    "        'Authorization': f'Bearer {token}'\n",
    "    }\n",
    "\n",
    "    tracks_response = requests.get(tracks_url, headers=header)\n",
    "    \n",
    "    tracks_json = tracks_response.json()\n",
    "    \n",
    "    for track in tracks_json['items']:\n",
    "        track_id = track['track']['id']\n",
    "        track_ids.append(track_id)"
   ]
  },
  {
   "cell_type": "code",
   "execution_count": 158,
   "metadata": {},
   "outputs": [],
   "source": [
    "import pandas as pd\n",
    "\n",
    "#Get all track features from spotify api\n",
    "track_features_df = pd.DataFrame(columns=['danceability','energy','key','loudness','mode','speechiness','acousticness',\n",
    "                                         'instrumentalness','liveness','valence','tempo'])\n",
    "\n",
    "for track in track_ids:\n",
    "    \n",
    "    track_response = requests.get(f'https://api.spotify.com/v1/audio-features/{track}', headers=header)\n",
    "    track_response_json = track_response.json()\n",
    "    \n",
    "    track_features = {\n",
    "        'danceability':track_response_json['danceability'],\n",
    "        'energy':track_response_json['energy'],\n",
    "        'key':track_response_json['key'],\n",
    "        'loudness':track_response_json['loudness'],\n",
    "        'mode':track_response_json['mode'],\n",
    "        'speechiness':track_response_json['speechiness'],\n",
    "        'acousticness':track_response_json['acousticness'],\n",
    "        'instrumentalness':track_response_json['instrumentalness'],\n",
    "        'liveness':track_response_json['liveness'],\n",
    "        'valence':track_response_json['valence'],\n",
    "        'tempo':track_response_json['tempo']\n",
    "    }\n",
    "    \n",
    "    track_features_df = track_features_df.append(track_features,ignore_index=True)"
   ]
  },
  {
   "cell_type": "code",
   "execution_count": null,
   "metadata": {},
   "outputs": [],
   "source": []
  },
  {
   "cell_type": "code",
   "execution_count": null,
   "metadata": {},
   "outputs": [],
   "source": []
  }
 ],
 "metadata": {
  "kernelspec": {
   "display_name": "Python 3",
   "language": "python",
   "name": "python3"
  },
  "language_info": {
   "codemirror_mode": {
    "name": "ipython",
    "version": 3
   },
   "file_extension": ".py",
   "mimetype": "text/x-python",
   "name": "python",
   "nbconvert_exporter": "python",
   "pygments_lexer": "ipython3",
   "version": "3.8.3"
  }
 },
 "nbformat": 4,
 "nbformat_minor": 4
}
