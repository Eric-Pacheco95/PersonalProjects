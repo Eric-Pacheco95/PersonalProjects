{
 "cells": [
  {
   "cell_type": "code",
   "execution_count": 19,
   "metadata": {},
   "outputs": [],
   "source": [
    "import os \n",
    "import requests\n",
    "import joblib\n",
    "import base64 as b64\n",
    "import pandas as pd"
   ]
  },
  {
   "cell_type": "code",
   "execution_count": 20,
   "metadata": {},
   "outputs": [],
   "source": [
    "#Create spotify class which contains all functions and attributes related to spotify API\n",
    "class SpotifyAPI:\n",
    "    \n",
    "    authorize_url = 'https://accounts.spotify.com/api/token'\n",
    "    \n",
    "    def __init__(self, client_id, client_secret):\n",
    "        self.client_id = client_id\n",
    "        self.client_secret = client_secret\n",
    "    \n",
    "    def get_authorization_code(self):\n",
    "        \n",
    "        client_id = self.client_id\n",
    "        client_secret = self.client_secret\n",
    "        authorize_url = self.authorize_url\n",
    "        client_creds = f'{client_id}:{client_secret}'\n",
    "        \n",
    "        client_creds_b64 = b64.b64encode(client_creds.encode())\n",
    "        \n",
    "        \n",
    "        authorize_params = {\n",
    "            'grant_type': 'client_credentials'\n",
    "        }\n",
    "        \n",
    "        token_header = {\n",
    "            'Authorization': f'Basic {client_creds_b64.decode()}' \n",
    "        }\n",
    "        \n",
    "        r = requests.post(authorize_url, data=authorize_params, headers=token_header)\n",
    "        r_json = r.json()\n",
    "        \n",
    "        access_token = r_json['access_token']\n",
    "        \n",
    "        return access_token"
   ]
  },
  {
   "cell_type": "code",
   "execution_count": 21,
   "metadata": {},
   "outputs": [],
   "source": [
    "#Create spotify client object with spotify app client id and secret key\n",
    "spotify_client_id = os.environ['SPOTIFY_API_CLIENT_ID']\n",
    "spotify_secret_key = os.environ['SPOTIFY_API_SECRET_KEY']\n",
    "\n",
    "spotify_client = SpotifyAPI(spotify_client_id, spotify_secret_key)"
   ]
  },
  {
   "cell_type": "code",
   "execution_count": 22,
   "metadata": {},
   "outputs": [],
   "source": [
    "#Get access token\n",
    "access_token = spotify_client.get_authorization_code()"
   ]
  },
  {
   "cell_type": "code",
   "execution_count": 23,
   "metadata": {},
   "outputs": [],
   "source": [
    "#Get pollen playlist spotify track ids\n",
    "pollen_playlist_id = '37i9dQZF1DWWBHeXOYZf74'\n",
    "\n",
    "pollen_playlist_tracks = []\n",
    "\n",
    "playlist_header = {\n",
    "    'Authorization': f'Bearer {access_token}'\n",
    "}\n",
    "\n",
    "for i in range(5):\n",
    "    \n",
    "    playlist_response = requests.get(f'https://api.spotify.com/v1/playlists/{pollen_playlist_id}/tracks?offset={i*100}', headers=playlist_header)\n",
    "    playlist_response_json = playlist_response.json()\n",
    "    \n",
    "    for item in playlist_response_json['items']:\n",
    "        \n",
    "        track_id = item['track']['id']\n",
    "        pollen_playlist_tracks.append(track_id)"
   ]
  },
  {
   "cell_type": "code",
   "execution_count": 24,
   "metadata": {},
   "outputs": [],
   "source": [
    "#Load liked tracks ids\n",
    "liked_track_ids = joblib.load('Joblib_Objects/liked_track_ids')\n",
    "\n",
    "#Filter playlist for songs that are already liked\n",
    "filtered_pollen_playlist_tracks = []\n",
    "\n",
    "for track in pollen_playlist_tracks:\n",
    "    if track not in liked_track_ids:\n",
    "        filtered_pollen_playlist_tracks.append(track)"
   ]
  },
  {
   "cell_type": "code",
   "execution_count": 53,
   "metadata": {},
   "outputs": [],
   "source": [
    "#Get track information for all filtered pollen playlist tracks\n",
    "pollen_playlist_df = pd.DataFrame(columns=['genre','danceability','energy','key','loudness','mode','speechiness','acousticness',\n",
    "                                         'instrumentalness','liveness','valence','tempo'])\n",
    "\n",
    "track_header = {\n",
    "    'Authorization': f'Bearer {access_token}'\n",
    "}\n",
    "\n",
    "for track in filtered_pollen_playlist_tracks:\n",
    "    try:\n",
    "        audio_features_response = requests.get(f'https://api.spotify.com/v1/audio-features/{track}', headers=track_header)\n",
    "        audio_features_response_json = audio_features_response.json()\n",
    "\n",
    "        track_response = requests.get(f'https://api.spotify.com/v1/tracks/{track}',headers=track_header)\n",
    "        track_response_json = track_response.json()\n",
    "        \n",
    "        artist_id = track_response_json['artists'][0]['id']\n",
    "        \n",
    "        artist_response = requests.get(f'https://api.spotify.com/v1/artists/{artist_id}',headers=track_header)\n",
    "        artist_response_json = artist_response.json()\n",
    "        genres = artist_response_json['genres']\n",
    "        \n",
    "        track_features = {\n",
    "            'genre':genres,\n",
    "            'danceability':audio_features_response_json['danceability'],\n",
    "            'energy':audio_features_response_json['energy'],\n",
    "            'key':audio_features_response_json['key'],\n",
    "            'loudness':audio_features_response_json['loudness'],\n",
    "            'mode':audio_features_response_json['mode'],\n",
    "            'speechiness':audio_features_response_json['speechiness'],\n",
    "            'acousticness':audio_features_response_json['acousticness'],\n",
    "            'instrumentalness':audio_features_response_json['instrumentalness'],\n",
    "            'liveness':audio_features_response_json['liveness'],\n",
    "            'valence':audio_features_response_json['valence'],\n",
    "            'tempo':audio_features_response_json['tempo']\n",
    "        }\n",
    "\n",
    "        pollen_playlist_df = pollen_playlist_df.append(track_features,ignore_index=True)\n",
    "        \n",
    "    except:\n",
    "        \n",
    "        print(track)"
   ]
  },
  {
   "cell_type": "code",
   "execution_count": 54,
   "metadata": {},
   "outputs": [],
   "source": [
    "#Format genres to only have 1 listed\n",
    "\n",
    "pollen_playlist_df['genre'] = pollen_playlist_df['genre'].map(lambda x: x)"
   ]
  },
  {
   "cell_type": "code",
   "execution_count": 47,
   "metadata": {},
   "outputs": [
    {
     "data": {
      "text/plain": [
       "'alternative r&b'"
      ]
     },
     "execution_count": 47,
     "metadata": {},
     "output_type": "execute_result"
    }
   ],
   "source": [
    "pollen_playlist_df['genre'][0]"
   ]
  },
  {
   "cell_type": "code",
   "execution_count": null,
   "metadata": {},
   "outputs": [],
   "source": []
  }
 ],
 "metadata": {
  "kernelspec": {
   "display_name": "Python 3",
   "language": "python",
   "name": "python3"
  },
  "language_info": {
   "codemirror_mode": {
    "name": "ipython",
    "version": 3
   },
   "file_extension": ".py",
   "mimetype": "text/x-python",
   "name": "python",
   "nbconvert_exporter": "python",
   "pygments_lexer": "ipython3",
   "version": "3.8.3"
  }
 },
 "nbformat": 4,
 "nbformat_minor": 4
}
