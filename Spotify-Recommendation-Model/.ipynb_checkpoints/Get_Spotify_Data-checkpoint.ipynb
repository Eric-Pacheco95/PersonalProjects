{
 "cells": [
  {
   "cell_type": "code",
   "execution_count": null,
   "metadata": {},
   "outputs": [],
   "source": [
    "import os \n",
    "import requests\n",
    "import joblib\n",
    "import datetime as datetime\n",
    "import time"
   ]
  },
  {
   "cell_type": "code",
   "execution_count": null,
   "metadata": {},
   "outputs": [],
   "source": [
    "#Create spotify class which contains all functions and attributes related to spotify API\n",
    "class SpotifyAPI:\n",
    "    \n",
    "    authorize_url = 'https://accounts.spotify.com/authorize'\n",
    "    tracks_request_url = 'https://api.spotify.com/v1/me/tracks'\n",
    "    \n",
    "    def __init__(self, client_id, client_secret):\n",
    "        self.client_id = client_id\n",
    "        self.client_secret = client_secret\n",
    "    \n",
    "    def get_authorization_code(self):\n",
    "        \n",
    "        client_id = self.client_id\n",
    "        client_secret = self.client_secret\n",
    "        authorize_url = self.authorize_url\n",
    "        \n",
    "        authorize_params = {\n",
    "            'client_id':client_id,\n",
    "            'response_type':'token',\n",
    "            'redirect_uri':'https://developer.spotify.com/documentation/web-api/reference-beta/#endpoint-get-users-saved-tracks',\n",
    "            'scope':'user-library-read user-read-recently-played'\n",
    "        }\n",
    "        \n",
    "        r = requests.get(authorize_url, params=authorize_params)\n",
    "        \n",
    "        print(r.url)\n",
    "    \n",
    "    def get_track_data(self):\n",
    "        \n",
    "        access_token = self.get_access_token()\n",
    "        \n",
    "        tracks_request_url = self.tracks_request_url\n",
    "        \n",
    "        tracks_request_header = {\n",
    "            'Authorization': f'Bearer {access_token}',\n",
    "            'scope':'user-library-read user-read-recently-played'\n",
    "        }\n",
    "        \n",
    "        r = requests.get(tracks_request_url, headers=tracks_request_header)\n",
    "        \n",
    "        return r.status_code"
   ]
  },
  {
   "cell_type": "code",
   "execution_count": null,
   "metadata": {},
   "outputs": [],
   "source": [
    "#Create spotify client object with spotify app client id and secret key\n",
    "spotify_client_id = os.environ['SPOTIFY_API_CLIENT_ID']\n",
    "spotify_secret_key = os.environ['SPOTIFY_API_SECRET_KEY']\n",
    "\n",
    "spotify_client = SpotifyAPI(spotify_client_id, spotify_secret_key)"
   ]
  },
  {
   "cell_type": "code",
   "execution_count": 5,
   "metadata": {},
   "outputs": [
    {
     "name": "stdout",
     "output_type": "stream",
     "text": [
      "https://accounts.spotify.com/login?continue=https%3A%2F%2Faccounts.spotify.com%2Fauthorize%3Fscope%3Duser-library-read%2Buser-read-recently-played%26response_type%3Dtoken%26redirect_uri%3Dhttps%253A%252F%252Fdeveloper.spotify.com%252Fdocumentation%252Fweb-api%252Freference-beta%252F%2523endpoint-get-users-saved-tracks%26client_id%3D853fe527a1704e18845533fb15278ead\n"
     ]
    }
   ],
   "source": [
    "#Get auth code url \n",
    "auth_code_url = spotify_client.get_authorization_code()"
   ]
  },
  {
   "cell_type": "code",
   "execution_count": 6,
   "metadata": {},
   "outputs": [
    {
     "data": {
      "text/plain": [
       "['Joblib_Objects/liked_track_ids']"
      ]
     },
     "execution_count": 6,
     "metadata": {},
     "output_type": "execute_result"
    }
   ],
   "source": [
    "#Token is taken from auth code url\n",
    "token = 'BQBE_WSC169reQNfPI9ZwgjlczJvUr0ujkzoiQudRh1E2B5HHPreDJY11XYZyHscheXQ2Dud_1wF3bWS1iul1_lRt9mwu6CGWKRIZ1fhND8uQ9qaAmnH6vDvV07uy_vasg-s0xwJT4PTYfllVLHe8qp_'\n",
    "\n",
    "#Get all track ids in spotify account\n",
    "track_ids = []\n",
    "\n",
    "for i in range(20):\n",
    "    \n",
    "    offset = i*50\n",
    "    \n",
    "    tracks_url = f'https://api.spotify.com/v1/me/tracks?offset={offset}&limit=50'\n",
    "\n",
    "    header = {\n",
    "        'Authorization': f'Bearer {token}'\n",
    "    }\n",
    "\n",
    "    tracks_response = requests.get(tracks_url, headers=header)\n",
    "    \n",
    "    tracks_json = tracks_response.json()\n",
    "    \n",
    "    for track in tracks_json['items']:\n",
    "        track_id = track['track']['id']\n",
    "        track_ids.append(track_id)\n",
    "        \n",
    "joblib.dump(track_ids,'Joblib_Objects/liked_track_ids')"
   ]
  },
  {
   "cell_type": "code",
   "execution_count": 11,
   "metadata": {},
   "outputs": [
    {
     "name": "stdout",
     "output_type": "stream",
     "text": [
      "<Response [200]>\n",
      "J\n",
      "<Response [200]>\n",
      "[]\n"
     ]
    },
    {
     "ename": "KeyError",
     "evalue": "'danceability'",
     "output_type": "error",
     "traceback": [
      "\u001b[1;31m---------------------------------------------------------------------------\u001b[0m",
      "\u001b[1;31mKeyError\u001b[0m                                  Traceback (most recent call last)",
      "\u001b[1;32m<ipython-input-11-c0734620f7d0>\u001b[0m in \u001b[0;36m<module>\u001b[1;34m\u001b[0m\n\u001b[0;32m     26\u001b[0m         \u001b[1;34m'genre'\u001b[0m\u001b[1;33m:\u001b[0m\u001b[0malbum_genres\u001b[0m\u001b[1;33m,\u001b[0m\u001b[1;33m\u001b[0m\u001b[1;33m\u001b[0m\u001b[0m\n\u001b[0;32m     27\u001b[0m         \u001b[1;34m'artist'\u001b[0m\u001b[1;33m:\u001b[0m\u001b[0martists\u001b[0m\u001b[1;33m,\u001b[0m\u001b[1;33m\u001b[0m\u001b[1;33m\u001b[0m\u001b[0m\n\u001b[1;32m---> 28\u001b[1;33m         \u001b[1;34m'danceability'\u001b[0m\u001b[1;33m:\u001b[0m\u001b[0mtrack_response_json\u001b[0m\u001b[1;33m[\u001b[0m\u001b[1;34m'danceability'\u001b[0m\u001b[1;33m]\u001b[0m\u001b[1;33m,\u001b[0m\u001b[1;33m\u001b[0m\u001b[1;33m\u001b[0m\u001b[0m\n\u001b[0m\u001b[0;32m     29\u001b[0m         \u001b[1;34m'energy'\u001b[0m\u001b[1;33m:\u001b[0m\u001b[0mtrack_response_json\u001b[0m\u001b[1;33m[\u001b[0m\u001b[1;34m'energy'\u001b[0m\u001b[1;33m]\u001b[0m\u001b[1;33m,\u001b[0m\u001b[1;33m\u001b[0m\u001b[1;33m\u001b[0m\u001b[0m\n\u001b[0;32m     30\u001b[0m         \u001b[1;34m'key'\u001b[0m\u001b[1;33m:\u001b[0m\u001b[0mtrack_response_json\u001b[0m\u001b[1;33m[\u001b[0m\u001b[1;34m'key'\u001b[0m\u001b[1;33m]\u001b[0m\u001b[1;33m,\u001b[0m\u001b[1;33m\u001b[0m\u001b[1;33m\u001b[0m\u001b[0m\n",
      "\u001b[1;31mKeyError\u001b[0m: 'danceability'"
     ]
    }
   ],
   "source": [
    "import pandas as pd\n",
    "\n",
    "#Get all track features from spotify api\n",
    "track_features_df = pd.DataFrame(columns=['genre','artists','danceability','energy','key','loudness','mode','speechiness','acousticness',\n",
    "                                         'instrumentalness','liveness','valence','tempo'])\n",
    "\n",
    "for track in track_ids:\n",
    "    \n",
    "    audio_features_response = requests.get(f'https://api.spotify.com/v1/audio-features/{track}', headers=header)\n",
    "    audio_features_response_json = audio_features_response.json()\n",
    "\n",
    "    track_response = requests.get(f'https://api.spotify.com/v1/tracks/{track}',headers=header)\n",
    "    track_response_json = track_response.json()\n",
    "    print(track_response)\n",
    "    album_id = track_response_json['album']['id']\n",
    "    artist_id = track_response_json['artists'][0]['id']\n",
    "    \n",
    "    artist_response = requests.get(f'https://api.spotify.com/v1/artists/{artist_id}',headers=header)\n",
    "    artist_response\n",
    "\n",
    "    track_features = {\n",
    "        'genre':album_genres,\n",
    "        'artist':artists,\n",
    "        'danceability':track_response_json['danceability'],\n",
    "        'energy':track_response_json['energy'],\n",
    "        'key':track_response_json['key'],\n",
    "        'loudness':track_response_json['loudness'],\n",
    "        'mode':track_response_json['mode'],\n",
    "        'speechiness':track_response_json['speechiness'],\n",
    "        'acousticness':track_response_json['acousticness'],\n",
    "        'instrumentalness':track_response_json['instrumentalness'],\n",
    "        'liveness':track_response_json['liveness'],\n",
    "        'valence':track_response_json['valence'],\n",
    "        'tempo':track_response_json['tempo']\n",
    "    }\n",
    "\n",
    "    track_features_df = track_features_df.append(track_features,ignore_index=True)\n",
    "        \n",
    "    \n",
    "\n",
    "track_features_df.to_csv('liked_songs.csv')"
   ]
  },
  {
   "cell_type": "code",
   "execution_count": null,
   "metadata": {},
   "outputs": [],
   "source": [
    "#Get track ids from good songs playlist - Favourite songs which we will be creating the model based off\n",
    "good_songs_track_ids = []\n",
    "\n",
    "playlist_uri = '5xobVZkNfsoq1M1s6qlhQQ'\n",
    "\n",
    "for i in range(4):\n",
    "\n",
    "    playlist_url = f'https://api.spotify.com/v1/playlists/{playlist_uri}/tracks?offset={i*100}'\n",
    "\n",
    "    header = {\n",
    "        'Authorization': f'Bearer {token}'\n",
    "    }\n",
    "\n",
    "    playlist_response = requests.get(playlist_url, headers=header)\n",
    "\n",
    "    playlist_json = playlist_response.json()\n",
    "    \n",
    "    for item in playlist_json['items']:\n",
    "        good_songs_track_ids.append(item['track']['id'])\n",
    "\n",
    "joblib.dump(good_songs_track_ids,'Joblib_Objects/good_songs_track_ids')"
   ]
  },
  {
   "cell_type": "code",
   "execution_count": 30,
   "metadata": {},
   "outputs": [
    {
     "data": {
      "text/plain": [
       "{'external_urls': {'spotify': 'https://open.spotify.com/artist/3DGlTwdM5Dim9XQipb3jMf'},\n",
       " 'followers': {'href': None, 'total': 11711},\n",
       " 'genres': ['alternative r&b', 'indie hip hop', 'indie r&b'],\n",
       " 'href': 'https://api.spotify.com/v1/artists/3DGlTwdM5Dim9XQipb3jMf',\n",
       " 'id': '3DGlTwdM5Dim9XQipb3jMf',\n",
       " 'images': [{'height': 640,\n",
       "   'url': 'https://i.scdn.co/image/028c55fb4c1e882c228d042b24cfad5098481fa9',\n",
       "   'width': 640},\n",
       "  {'height': 320,\n",
       "   'url': 'https://i.scdn.co/image/bc6872f94052591e73a3e00313163e914a49f054',\n",
       "   'width': 320},\n",
       "  {'height': 160,\n",
       "   'url': 'https://i.scdn.co/image/40dd51f1c62007089cdcd51fddf8caf775579acb',\n",
       "   'width': 160}],\n",
       " 'name': 'Jordan Ward',\n",
       " 'popularity': 47,\n",
       " 'type': 'artist',\n",
       " 'uri': 'spotify:artist:3DGlTwdM5Dim9XQipb3jMf'}"
      ]
     },
     "execution_count": 30,
     "metadata": {},
     "output_type": "execute_result"
    }
   ],
   "source": [
    "audio_features_response = requests.get(f'https://api.spotify.com/v1/audio-features/{track_ids[3]}', headers=header)\n",
    "audio_features_response_json = audio_features_response.json()\n",
    "\n",
    "track_response = requests.get(f'https://api.spotify.com/v1/tracks/{track_ids[3]}', headers=header)\n",
    "track_response_json = track_response.json()\n",
    "\n",
    "artist_id = track_response_json['artists'][0]['id']\n",
    "\n",
    "artist_response = requests.get(f'https://api.spotify.com/v1/artists/{artist_id}',headers=header)\n",
    "artist_response_json = artist_response.json()\n",
    "artist_response_json"
   ]
  },
  {
   "cell_type": "code",
   "execution_count": null,
   "metadata": {},
   "outputs": [],
   "source": []
  },
  {
   "cell_type": "code",
   "execution_count": null,
   "metadata": {},
   "outputs": [],
   "source": []
  }
 ],
 "metadata": {
  "kernelspec": {
   "display_name": "Python 3",
   "language": "python",
   "name": "python3"
  },
  "language_info": {
   "codemirror_mode": {
    "name": "ipython",
    "version": 3
   },
   "file_extension": ".py",
   "mimetype": "text/x-python",
   "name": "python",
   "nbconvert_exporter": "python",
   "pygments_lexer": "ipython3",
   "version": "3.8.3"
  }
 },
 "nbformat": 4,
 "nbformat_minor": 4
}
