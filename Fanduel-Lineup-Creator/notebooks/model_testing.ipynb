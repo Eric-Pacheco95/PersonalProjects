{
 "cells": [
  {
   "cell_type": "code",
   "execution_count": 1,
   "metadata": {},
   "outputs": [],
   "source": [
    "import pandas as pd\n",
    "import numpy as np\n",
    "from sklearn.preprocessing import MinMaxScaler\n",
    "from sklearn.linear_model import LinearRegression\n",
    "from sklearn.model_selection import cross_val_score, GridSearchCV, KFold, RandomizedSearchCV, train_test_split\n",
    "import xgboost as xgb\n",
    "from scipy.stats import uniform, randint\n",
    "\n",
    "pd.set_option(\"display.max_columns\",70)"
   ]
  },
  {
   "cell_type": "code",
   "execution_count": 2,
   "metadata": {},
   "outputs": [],
   "source": [
    "giannis_test_df = pd.read_csv('cleaned_data/player_data/antetgi01.csv',index_col=0)"
   ]
  },
  {
   "cell_type": "code",
   "execution_count": 3,
   "metadata": {},
   "outputs": [],
   "source": [
    "base_features = ['FD_pts_scored','location','opponent_id','points_scored','seconds_played','made_field_goals',\n",
    "                 'attempted_field_goals', 'made_three_point_field_goals', 'attempted_three_point_field_goals',\n",
    "                 'made_free_throws', 'attempted_free_throws', 'offensive_rebounds','defensive_rebounds', 'assists', 'steals', \n",
    "                 'blocks', 'turnovers','game_score', 'rest', 'no_rest', '1_day_rest', '2_day_rest','3_day_rest', '4_day_rest', \n",
    "                 '5_day_rest', '5_plus_day_rest','Simple_Rating_System', 'Offensive_Rating', 'Defensive_Rating',\n",
    "                 'Net_Rating', 'Pace', 'Free_Throw_Rate', '3_Pt_Rate','Turnover_Percentage', 'Offensive_Rebound_Percentage', \n",
    "                 'Opponent_EFG','Opponent_Turnover_Percentage', 'Opponent_Defensive_Rebound_Percentage']"
   ]
  },
  {
   "cell_type": "code",
   "execution_count": 4,
   "metadata": {},
   "outputs": [],
   "source": [
    "giannis_test_df = giannis_test_df[base_features]"
   ]
  },
  {
   "cell_type": "code",
   "execution_count": 5,
   "metadata": {},
   "outputs": [
    {
     "name": "stderr",
     "output_type": "stream",
     "text": [
      "D:\\Anaconda\\lib\\site-packages\\pandas\\core\\indexing.py:670: SettingWithCopyWarning: \n",
      "A value is trying to be set on a copy of a slice from a DataFrame\n",
      "\n",
      "See the caveats in the documentation: https://pandas.pydata.org/pandas-docs/stable/user_guide/indexing.html#returning-a-view-versus-a-copy\n",
      "  iloc._setitem_with_indexer(indexer, value)\n"
     ]
    }
   ],
   "source": [
    "def get_averages_past_7(row):\n",
    "    \n",
    "    giannis_test_df[f'{row}_last_7'] = giannis_test_df[row].rolling(window=7).mean()\n",
    "    \n",
    "    for i in range(len(giannis_test_df)):\n",
    "        if i < 7:\n",
    "            giannis_test_df[f'{row}_last_7'].iloc[i] = giannis_test_df[row].iloc[0:(i+1)].rolling(i+1).mean().mean()\n",
    "        else:\n",
    "            pass\n",
    "\n",
    "past_7_features = ['points_scored','seconds_played','made_field_goals',\n",
    "                 'attempted_field_goals', 'made_three_point_field_goals', 'attempted_three_point_field_goals',\n",
    "                 'made_free_throws', 'attempted_free_throws', 'offensive_rebounds','defensive_rebounds', 'assists', 'steals', \n",
    "                 'blocks', 'turnovers','game_score']\n",
    "\n",
    "for feature in past_7_features:\n",
    "    get_averages_past_7(feature)"
   ]
  },
  {
   "cell_type": "code",
   "execution_count": 6,
   "metadata": {
    "scrolled": true
   },
   "outputs": [
    {
     "name": "stderr",
     "output_type": "stream",
     "text": [
      "<ipython-input-6-12ef28bb3b46>:4: SettingWithCopyWarning: \n",
      "A value is trying to be set on a copy of a slice from a DataFrame.\n",
      "Try using .loc[row_indexer,col_indexer] = value instead\n",
      "\n",
      "See the caveats in the documentation: https://pandas.pydata.org/pandas-docs/stable/user_guide/indexing.html#returning-a-view-versus-a-copy\n",
      "  giannis_totals[f'{row}_average'] = ''\n",
      "<ipython-input-6-12ef28bb3b46>:6: SettingWithCopyWarning: \n",
      "A value is trying to be set on a copy of a slice from a DataFrame\n",
      "\n",
      "See the caveats in the documentation: https://pandas.pydata.org/pandas-docs/stable/user_guide/indexing.html#returning-a-view-versus-a-copy\n",
      "  giannis_totals[f'{row}_average'].iloc[i] = giannis_totals[row].iloc[0:i+1].mean()\n"
     ]
    }
   ],
   "source": [
    "giannis_totals = giannis_test_df[past_7_features]\n",
    "\n",
    "def get_total_averages(row):\n",
    "    giannis_totals[f'{row}_average'] = ''\n",
    "    for i in range(len(giannis_totals)):\n",
    "        giannis_totals[f'{row}_average'].iloc[i] = giannis_totals[row].iloc[0:i+1].mean()\n",
    "    else:\n",
    "        pass\n",
    "\n",
    "for feature in past_7_features:\n",
    "    get_total_averages(feature)\n",
    "\n",
    "giannis_totals_columns = [f'{feature}_average' for feature in past_7_features]"
   ]
  },
  {
   "cell_type": "code",
   "execution_count": 7,
   "metadata": {},
   "outputs": [],
   "source": [
    "giannis_totals = giannis_totals[giannis_totals_columns]\n",
    "\n",
    "giannis_model_features = giannis_test_df\n",
    "giannis_model_features = giannis_model_features.reset_index()\n",
    "\n",
    "giannis_totals = giannis_totals.reset_index()\n",
    "\n",
    "\n",
    "giannis_model_features = pd.merge(giannis_model_features,giannis_totals,on='index')\n",
    "giannis_model_features = giannis_model_features.drop('index',axis=1)\n",
    "giannis_model_features = giannis_model_features.drop('rest',axis=1)\n",
    "giannis_model_features = giannis_model_features.drop(past_7_features,axis=1)"
   ]
  },
  {
   "cell_type": "code",
   "execution_count": 8,
   "metadata": {},
   "outputs": [],
   "source": [
    "giannis_model_features['location'] = giannis_model_features['location'].replace(['Location.HOME','Location.AWAY'],[0,1])"
   ]
  },
  {
   "cell_type": "code",
   "execution_count": 9,
   "metadata": {},
   "outputs": [],
   "source": [
    "y = giannis_model_features['FD_pts_scored'].values.reshape(-1,1).flatten()"
   ]
  },
  {
   "cell_type": "code",
   "execution_count": 10,
   "metadata": {},
   "outputs": [],
   "source": [
    "X_features = ['location', 'opponent_id', 'no_rest', '1_day_rest','2_day_rest', '3_day_rest', '4_day_rest', '5_day_rest',\n",
    "       '5_plus_day_rest', 'Simple_Rating_System', 'Offensive_Rating',\n",
    "       'Defensive_Rating', 'Net_Rating', 'Pace', 'Free_Throw_Rate','3_Pt_Rate', 'Turnover_Percentage', 'Offensive_Rebound_Percentage',\n",
    "       'Opponent_EFG', 'Opponent_Turnover_Percentage','Opponent_Defensive_Rebound_Percentage', 'points_scored_last_7',\n",
    "       'seconds_played_last_7', 'made_field_goals_last_7','attempted_field_goals_last_7', 'made_three_point_field_goals_last_7',\n",
    "       'attempted_three_point_field_goals_last_7', 'made_free_throws_last_7','attempted_free_throws_last_7', 'offensive_rebounds_last_7',\n",
    "       'defensive_rebounds_last_7', 'assists_last_7', 'steals_last_7','blocks_last_7', 'turnovers_last_7', 'game_score_last_7',\n",
    "       'points_scored_average', 'seconds_played_average','made_field_goals_average', 'attempted_field_goals_average',\n",
    "       'made_three_point_field_goals_average','attempted_three_point_field_goals_average', 'made_free_throws_average',\n",
    "       'attempted_free_throws_average', 'offensive_rebounds_average','defensive_rebounds_average', 'assists_average', 'steals_average',\n",
    "       'blocks_average', 'turnovers_average', 'game_score_average']\n",
    "\n",
    "X = giannis_model_features[X_features]\n",
    "X = MinMaxScaler().fit_transform(X)\n",
    "\n",
    "X_train, X_test, y_train, y_test = train_test_split(X,y,test_size=0.25,random_state=42)"
   ]
  },
  {
   "cell_type": "code",
   "execution_count": 11,
   "metadata": {},
   "outputs": [
    {
     "name": "stdout",
     "output_type": "stream",
     "text": [
      "Fitting 3 folds for each of 200 candidates, totalling 600 fits\n"
     ]
    },
    {
     "name": "stderr",
     "output_type": "stream",
     "text": [
      "[Parallel(n_jobs=1)]: Using backend SequentialBackend with 1 concurrent workers.\n"
     ]
    },
    {
     "name": "stdout",
     "output_type": "stream",
     "text": [
      "Model with rank: 1\n",
      "Mean validation score: 0.014 (std: 0.104)\n",
      "Parameters: {'colsample_bytree': 0.9040922615763338, 'gamma': 0.2252496259847715, 'learning_rate': 0.033979488347959955, 'max_depth': 2, 'n_estimators': 113, 'subsample': 0.9233589392465844}\n",
      "\n"
     ]
    },
    {
     "name": "stderr",
     "output_type": "stream",
     "text": [
      "[Parallel(n_jobs=1)]: Done 600 out of 600 | elapsed:   37.0s finished\n"
     ]
    }
   ],
   "source": [
    "def report_best_scores(results, n_top=3):\n",
    "    for i in range(1, n_top + 1):\n",
    "        candidates = np.flatnonzero(results['rank_test_score'] == i)\n",
    "        for candidate in candidates:\n",
    "            print(\"Model with rank: {0}\".format(i))\n",
    "            print(\"Mean validation score: {0:.3f} (std: {1:.3f})\".format(\n",
    "                  results['mean_test_score'][candidate],\n",
    "                  results['std_test_score'][candidate]))\n",
    "            print(\"Parameters: {0}\".format(results['params'][candidate]))\n",
    "            print(\"\")\n",
    "            \n",
    "xgb_model = xgb.XGBRegressor(objective='reg:squarederror', random_state=42)\n",
    "\n",
    "params = {\n",
    "    \"colsample_bytree\": uniform(0.7, 0.3),\n",
    "    \"gamma\": uniform(0, 0.5),\n",
    "    \"learning_rate\": uniform(0.03, 0.3), # default 0.1 \n",
    "    \"max_depth\": randint(2, 6), # default 3\n",
    "    \"n_estimators\": randint(100, 150), # default 100\n",
    "    \"subsample\": uniform(0.6, 0.4)\n",
    "}\n",
    "\n",
    "search = RandomizedSearchCV(xgb_model, param_distributions=params, random_state=42, n_iter=200, cv=3, verbose=1, n_jobs=1, return_train_score=True)\n",
    "\n",
    "search.fit(X_train, y_train)\n",
    "\n",
    "report_best_scores(search.cv_results_, 1)"
   ]
  },
  {
   "cell_type": "code",
   "execution_count": 24,
   "metadata": {},
   "outputs": [
    {
     "data": {
      "text/plain": [
       "{'colsample_bytree': 0.9040922615763338,\n",
       " 'gamma': 0.2252496259847715,\n",
       " 'learning_rate': 0.033979488347959955,\n",
       " 'max_depth': 2,\n",
       " 'n_estimators': 113,\n",
       " 'subsample': 0.9233589392465844}"
      ]
     },
     "execution_count": 24,
     "metadata": {},
     "output_type": "execute_result"
    }
   ],
   "source": [
    "top_rank = np.flatnonzero(search.cv_results_['rank_test_score'] == 1)[0]\n",
    "search.cv_results_['params'][top_rank]"
   ]
  },
  {
   "cell_type": "code",
   "execution_count": null,
   "metadata": {},
   "outputs": [],
   "source": [
    "xgb_model = xgb.XGBRegressor(objective='reg:squarederror', colsample_bytree=0.9040922615763338, gamma=0.2252496259847715,\n",
    "                             learning_rate=0.033979488347959955, max_depth=2, n_estimators=113, subsample=0.9233589392465844)\n",
    "\n",
    "xgb_model.fit(X_train, y_train, eval_set=[(X_train, y_train), (X_test, y_test)],\n",
    "                             eval_metric='logloss')\n",
    "\n",
    "xgb_model.evals_result()"
   ]
  },
  {
   "cell_type": "code",
   "execution_count": null,
   "metadata": {},
   "outputs": [],
   "source": [
    "reg = LinearRegression()\n",
    "reg.fit(X_train, y_train)\n",
    "\n",
    "coeff_df = pd.DataFrame(reg.coef_, X_features, columns=['Coefficient'])  \n",
    "coeff_df.sort_values('Coefficient',ascending=False)"
   ]
  },
  {
   "cell_type": "code",
   "execution_count": null,
   "metadata": {},
   "outputs": [],
   "source": [
    "test_predict = [1,21,0,1,0,0,0,0,0,-.93,108.5,109.5,-1,98.6,.256,.364,11.5,22.3,.535,13.2,79.1,30,2000,13,20,1,3,6,10,2,11,8,2,2,4,22.4,29.5,2000,10.9,19.7,1.4,4.7,6.3,10,2.2,11.4,5.6,1,1,3.7,24]\n",
    "test_predict = np.array(test_predict).reshape(-1,1)\n",
    "test_predict = MinMaxScaler().fit_transform(test_predict"
   ]
  },
  {
   "cell_type": "code",
   "execution_count": null,
   "metadata": {},
   "outputs": [],
   "source": []
  },
  {
   "cell_type": "code",
   "execution_count": null,
   "metadata": {},
   "outputs": [],
   "source": []
  }
 ],
 "metadata": {
  "kernelspec": {
   "display_name": "Python 3",
   "language": "python",
   "name": "python3"
  },
  "language_info": {
   "codemirror_mode": {
    "name": "ipython",
    "version": 3
   },
   "file_extension": ".py",
   "mimetype": "text/x-python",
   "name": "python",
   "nbconvert_exporter": "python",
   "pygments_lexer": "ipython3",
   "version": "3.8.3"
  }
 },
 "nbformat": 4,
 "nbformat_minor": 4
}
